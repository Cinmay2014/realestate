{
 "cells": [
  {
   "cell_type": "markdown",
   "metadata": {},
   "source": [
    "## CRIME IN LA"
   ]
  },
  {
   "cell_type": "markdown",
   "metadata": {},
   "source": [
    "Perform Descriptive Analytics on the Crime Dataset to observe the trends in LA area. Then based on the observations, predict the possibility of crime occuring in the majorly affected areas."
   ]
  },
  {
   "cell_type": "markdown",
   "metadata": {},
   "source": [
    "## PROBLEM STATEMENT"
   ]
  },
  {
   "cell_type": "markdown",
   "metadata": {},
   "source": [
    "Will a crime occur in the areas that are most affected in LA?"
   ]
  },
  {
   "cell_type": "code",
   "execution_count": 1,
   "metadata": {},
   "outputs": [],
   "source": [
    "#import packages needed for the code\n",
    "import pandas as pd\n",
    "import numpy as np\n",
    "import matplotlib.pyplot as plt\n",
    "import seaborn as sns\n",
    "import sklearn\n",
    "from sklearn import ensemble\n",
    "from sklearn import datasets\n",
    "from sklearn import model_selection\n",
    "import statsmodels.api as smf"
   ]
  },
  {
   "cell_type": "markdown",
   "metadata": {},
   "source": [
    "## DATA EXPLORATION"
   ]
  },
  {
   "cell_type": "code",
   "execution_count": 2,
   "metadata": {},
   "outputs": [],
   "source": [
    "#load the csv file\n",
    "#Link for the dataset : https://www.kaggle.com/cityofLA/crime-in-los-angeles#Crime_Data_2010_2017.csv\n",
    "df = pd.read_csv('G:/analytics systems technology/LACrime/Crime_Data_2010_2017.csv')"
   ]
  },
  {
   "cell_type": "code",
   "execution_count": 3,
   "metadata": {},
   "outputs": [
    {
     "data": {
      "text/html": [
       "<div>\n",
       "<style scoped>\n",
       "    .dataframe tbody tr th:only-of-type {\n",
       "        vertical-align: middle;\n",
       "    }\n",
       "\n",
       "    .dataframe tbody tr th {\n",
       "        vertical-align: top;\n",
       "    }\n",
       "\n",
       "    .dataframe thead th {\n",
       "        text-align: right;\n",
       "    }\n",
       "</style>\n",
       "<table border=\"1\" class=\"dataframe\">\n",
       "  <thead>\n",
       "    <tr style=\"text-align: right;\">\n",
       "      <th></th>\n",
       "      <th>DR Number</th>\n",
       "      <th>Date Reported</th>\n",
       "      <th>Date Occurred</th>\n",
       "      <th>Time Occurred</th>\n",
       "      <th>Area ID</th>\n",
       "      <th>Area Name</th>\n",
       "      <th>Reporting District</th>\n",
       "      <th>Crime Code</th>\n",
       "      <th>Crime Code Description</th>\n",
       "      <th>MO Codes</th>\n",
       "      <th>...</th>\n",
       "      <th>Weapon Description</th>\n",
       "      <th>Status Code</th>\n",
       "      <th>Status Description</th>\n",
       "      <th>Crime Code 1</th>\n",
       "      <th>Crime Code 2</th>\n",
       "      <th>Crime Code 3</th>\n",
       "      <th>Crime Code 4</th>\n",
       "      <th>Address</th>\n",
       "      <th>Cross Street</th>\n",
       "      <th>Location</th>\n",
       "    </tr>\n",
       "  </thead>\n",
       "  <tbody>\n",
       "    <tr>\n",
       "      <th>0</th>\n",
       "      <td>1208575</td>\n",
       "      <td>03/14/2013</td>\n",
       "      <td>03/11/2013</td>\n",
       "      <td>1800</td>\n",
       "      <td>12</td>\n",
       "      <td>77th Street</td>\n",
       "      <td>1241</td>\n",
       "      <td>626</td>\n",
       "      <td>INTIMATE PARTNER - SIMPLE ASSAULT</td>\n",
       "      <td>0416 0446 1243 2000</td>\n",
       "      <td>...</td>\n",
       "      <td>STRONG-ARM (HANDS, FIST, FEET OR BODILY FORCE)</td>\n",
       "      <td>AO</td>\n",
       "      <td>Adult Other</td>\n",
       "      <td>626.0</td>\n",
       "      <td>NaN</td>\n",
       "      <td>NaN</td>\n",
       "      <td>NaN</td>\n",
       "      <td>6300    BRYNHURST                    AV</td>\n",
       "      <td>NaN</td>\n",
       "      <td>(33.9829, -118.3338)</td>\n",
       "    </tr>\n",
       "    <tr>\n",
       "      <th>1</th>\n",
       "      <td>102005556</td>\n",
       "      <td>01/25/2010</td>\n",
       "      <td>01/22/2010</td>\n",
       "      <td>2300</td>\n",
       "      <td>20</td>\n",
       "      <td>Olympic</td>\n",
       "      <td>2071</td>\n",
       "      <td>510</td>\n",
       "      <td>VEHICLE - STOLEN</td>\n",
       "      <td>NaN</td>\n",
       "      <td>...</td>\n",
       "      <td>NaN</td>\n",
       "      <td>IC</td>\n",
       "      <td>Invest Cont</td>\n",
       "      <td>510.0</td>\n",
       "      <td>NaN</td>\n",
       "      <td>NaN</td>\n",
       "      <td>NaN</td>\n",
       "      <td>VAN NESS</td>\n",
       "      <td>15TH</td>\n",
       "      <td>(34.0454, -118.3157)</td>\n",
       "    </tr>\n",
       "    <tr>\n",
       "      <th>2</th>\n",
       "      <td>418</td>\n",
       "      <td>03/19/2013</td>\n",
       "      <td>03/18/2013</td>\n",
       "      <td>2030</td>\n",
       "      <td>18</td>\n",
       "      <td>Southeast</td>\n",
       "      <td>1823</td>\n",
       "      <td>510</td>\n",
       "      <td>VEHICLE - STOLEN</td>\n",
       "      <td>NaN</td>\n",
       "      <td>...</td>\n",
       "      <td>NaN</td>\n",
       "      <td>IC</td>\n",
       "      <td>Invest Cont</td>\n",
       "      <td>510.0</td>\n",
       "      <td>NaN</td>\n",
       "      <td>NaN</td>\n",
       "      <td>NaN</td>\n",
       "      <td>200 E  104TH                        ST</td>\n",
       "      <td>NaN</td>\n",
       "      <td>(33.942, -118.2717)</td>\n",
       "    </tr>\n",
       "    <tr>\n",
       "      <th>3</th>\n",
       "      <td>101822289</td>\n",
       "      <td>11/11/2010</td>\n",
       "      <td>11/10/2010</td>\n",
       "      <td>1800</td>\n",
       "      <td>18</td>\n",
       "      <td>Southeast</td>\n",
       "      <td>1803</td>\n",
       "      <td>510</td>\n",
       "      <td>VEHICLE - STOLEN</td>\n",
       "      <td>NaN</td>\n",
       "      <td>...</td>\n",
       "      <td>NaN</td>\n",
       "      <td>IC</td>\n",
       "      <td>Invest Cont</td>\n",
       "      <td>510.0</td>\n",
       "      <td>NaN</td>\n",
       "      <td>NaN</td>\n",
       "      <td>NaN</td>\n",
       "      <td>88TH</td>\n",
       "      <td>WALL</td>\n",
       "      <td>(33.9572, -118.2717)</td>\n",
       "    </tr>\n",
       "    <tr>\n",
       "      <th>4</th>\n",
       "      <td>42104479</td>\n",
       "      <td>01/11/2014</td>\n",
       "      <td>01/04/2014</td>\n",
       "      <td>2300</td>\n",
       "      <td>21</td>\n",
       "      <td>Topanga</td>\n",
       "      <td>2133</td>\n",
       "      <td>745</td>\n",
       "      <td>VANDALISM - MISDEAMEANOR ($399 OR UNDER)</td>\n",
       "      <td>0329</td>\n",
       "      <td>...</td>\n",
       "      <td>NaN</td>\n",
       "      <td>IC</td>\n",
       "      <td>Invest Cont</td>\n",
       "      <td>745.0</td>\n",
       "      <td>NaN</td>\n",
       "      <td>NaN</td>\n",
       "      <td>NaN</td>\n",
       "      <td>7200    CIRRUS                       WY</td>\n",
       "      <td>NaN</td>\n",
       "      <td>(34.2009, -118.6369)</td>\n",
       "    </tr>\n",
       "  </tbody>\n",
       "</table>\n",
       "<p>5 rows × 26 columns</p>\n",
       "</div>"
      ],
      "text/plain": [
       "   DR Number Date Reported Date Occurred  Time Occurred  Area ID    Area Name  \\\n",
       "0    1208575    03/14/2013    03/11/2013           1800       12  77th Street   \n",
       "1  102005556    01/25/2010    01/22/2010           2300       20      Olympic   \n",
       "2        418    03/19/2013    03/18/2013           2030       18    Southeast   \n",
       "3  101822289    11/11/2010    11/10/2010           1800       18    Southeast   \n",
       "4   42104479    01/11/2014    01/04/2014           2300       21      Topanga   \n",
       "\n",
       "   Reporting District  Crime Code                    Crime Code Description  \\\n",
       "0                1241         626         INTIMATE PARTNER - SIMPLE ASSAULT   \n",
       "1                2071         510                          VEHICLE - STOLEN   \n",
       "2                1823         510                          VEHICLE - STOLEN   \n",
       "3                1803         510                          VEHICLE - STOLEN   \n",
       "4                2133         745  VANDALISM - MISDEAMEANOR ($399 OR UNDER)   \n",
       "\n",
       "              MO Codes          ...           \\\n",
       "0  0416 0446 1243 2000          ...            \n",
       "1                  NaN          ...            \n",
       "2                  NaN          ...            \n",
       "3                  NaN          ...            \n",
       "4                 0329          ...            \n",
       "\n",
       "                               Weapon Description Status Code  \\\n",
       "0  STRONG-ARM (HANDS, FIST, FEET OR BODILY FORCE)          AO   \n",
       "1                                             NaN          IC   \n",
       "2                                             NaN          IC   \n",
       "3                                             NaN          IC   \n",
       "4                                             NaN          IC   \n",
       "\n",
       "  Status Description  Crime Code 1 Crime Code 2  Crime Code 3 Crime Code 4  \\\n",
       "0        Adult Other         626.0          NaN           NaN          NaN   \n",
       "1        Invest Cont         510.0          NaN           NaN          NaN   \n",
       "2        Invest Cont         510.0          NaN           NaN          NaN   \n",
       "3        Invest Cont         510.0          NaN           NaN          NaN   \n",
       "4        Invest Cont         745.0          NaN           NaN          NaN   \n",
       "\n",
       "                                   Address Cross Street             Location   \n",
       "0  6300    BRYNHURST                    AV          NaN  (33.9829, -118.3338)  \n",
       "1                                 VAN NESS         15TH  (34.0454, -118.3157)  \n",
       "2   200 E  104TH                        ST          NaN   (33.942, -118.2717)  \n",
       "3                                     88TH         WALL  (33.9572, -118.2717)  \n",
       "4  7200    CIRRUS                       WY          NaN  (34.2009, -118.6369)  \n",
       "\n",
       "[5 rows x 26 columns]"
      ]
     },
     "execution_count": 3,
     "metadata": {},
     "output_type": "execute_result"
    }
   ],
   "source": [
    "df.head()"
   ]
  },
  {
   "cell_type": "code",
   "execution_count": 4,
   "metadata": {},
   "outputs": [
    {
     "name": "stdout",
     "output_type": "stream",
     "text": [
      "<class 'pandas.core.frame.DataFrame'>\n",
      "RangeIndex: 1584316 entries, 0 to 1584315\n",
      "Data columns (total 26 columns):\n",
      "DR Number                 1584316 non-null int64\n",
      "Date Reported             1584316 non-null object\n",
      "Date Occurred             1584316 non-null object\n",
      "Time Occurred             1584316 non-null int64\n",
      "Area ID                   1584316 non-null int64\n",
      "Area Name                 1584316 non-null object\n",
      "Reporting District        1584316 non-null int64\n",
      "Crime Code                1584316 non-null int64\n",
      "Crime Code Description    1583904 non-null object\n",
      "MO Codes                  1412557 non-null object\n",
      "Victim Age                1455657 non-null float64\n",
      "Victim Sex                1439117 non-null object\n",
      "Victim Descent            1439084 non-null object\n",
      "Premise Code              1584240 non-null float64\n",
      "Premise Description       1581565 non-null object\n",
      "Weapon Used Code          524757 non-null float64\n",
      "Weapon Description        524756 non-null object\n",
      "Status Code               1584314 non-null object\n",
      "Status Description        1584316 non-null object\n",
      "Crime Code 1              1584309 non-null float64\n",
      "Crime Code 2              99997 non-null float64\n",
      "Crime Code 3              2183 non-null float64\n",
      "Crime Code 4              69 non-null float64\n",
      "Address                   1584316 non-null object\n",
      "Cross Street              262733 non-null object\n",
      "Location                  1584307 non-null object\n",
      "dtypes: float64(7), int64(5), object(14)\n",
      "memory usage: 314.3+ MB\n"
     ]
    }
   ],
   "source": [
    "df.info()"
   ]
  },
  {
   "cell_type": "code",
   "execution_count": 5,
   "metadata": {},
   "outputs": [
    {
     "data": {
      "text/plain": [
       "DR Number                       0\n",
       "Date Reported                   0\n",
       "Date Occurred                   0\n",
       "Time Occurred                   0\n",
       "Area ID                         0\n",
       "Area Name                       0\n",
       "Reporting District              0\n",
       "Crime Code                      0\n",
       "Crime Code Description        412\n",
       "MO Codes                   171759\n",
       "Victim Age                 128659\n",
       "Victim Sex                 145199\n",
       "Victim Descent             145232\n",
       "Premise Code                   76\n",
       "Premise Description          2751\n",
       "Weapon Used Code          1059559\n",
       "Weapon Description        1059560\n",
       "Status Code                     2\n",
       "Status Description              0\n",
       "Crime Code 1                    7\n",
       "Crime Code 2              1484319\n",
       "Crime Code 3              1582133\n",
       "Crime Code 4              1584247\n",
       "Address                         0\n",
       "Cross Street              1321583\n",
       "Location                        9\n",
       "dtype: int64"
      ]
     },
     "execution_count": 5,
     "metadata": {},
     "output_type": "execute_result"
    }
   ],
   "source": [
    "df.isnull().sum()"
   ]
  },
  {
   "cell_type": "markdown",
   "metadata": {},
   "source": [
    "## Descriptive Analytics"
   ]
  },
  {
   "cell_type": "code",
   "execution_count": 6,
   "metadata": {},
   "outputs": [],
   "source": [
    "# Select the Columns with Victim's Age, Sex and Descent.\n",
    "victim = df[['Victim Age', 'Victim Sex', 'Victim Descent']]"
   ]
  },
  {
   "cell_type": "code",
   "execution_count": 7,
   "metadata": {},
   "outputs": [
    {
     "name": "stderr",
     "output_type": "stream",
     "text": [
      "C:\\Users\\anush\\Anaconda3\\lib\\site-packages\\matplotlib\\axes\\_axes.py:6462: UserWarning: The 'normed' kwarg is deprecated, and has been replaced by the 'density' kwarg.\n",
      "  warnings.warn(\"The 'normed' kwarg is deprecated, and has been \"\n"
     ]
    },
    {
     "data": {
      "text/plain": [
       "<matplotlib.axes._subplots.AxesSubplot at 0x26ec0d05b00>"
      ]
     },
     "execution_count": 7,
     "metadata": {},
     "output_type": "execute_result"
    },
    {
     "data": {
      "image/png": "[encoded data removed]",
      "text/plain": [
       "<Figure size 432x288 with 1 Axes>"
      ]
     },
     "metadata": {},
     "output_type": "display_data"
    }
   ],
   "source": [
    "#remove the missing values\n",
    "sns.distplot(victim['Victim Age'].dropna())"
   ]
  },
  {
   "cell_type": "code",
   "execution_count": 8,
   "metadata": {},
   "outputs": [
    {
     "data": {
      "text/plain": [
       "<matplotlib.axes._subplots.AxesSubplot at 0x26ec0dc6438>"
      ]
     },
     "execution_count": 8,
     "metadata": {},
     "output_type": "execute_result"
    },
    {
     "data": {
      "image/png": "[encoded data removed]",
      "text/plain": [
       "<Figure size 432x288 with 1 Axes>"
      ]
     },
     "metadata": {},
     "output_type": "display_data"
    }
   ],
   "source": [
    "# Seaborns Count Plot\n",
    "plt.title('Number of Victims as per Sex')\n",
    "sns.countplot('Victim Sex', data=victim)"
   ]
  },
  {
   "cell_type": "code",
   "execution_count": 9,
   "metadata": {},
   "outputs": [
    {
     "data": {
      "text/plain": [
       "<matplotlib.axes._subplots.AxesSubplot at 0x26ec0dc6518>"
      ]
     },
     "execution_count": 9,
     "metadata": {},
     "output_type": "execute_result"
    },
    {
     "data": {
      "image/png": "[encoded data removed]",
      "text/plain": [
       "<Figure size 432x288 with 1 Axes>"
      ]
     },
     "metadata": {},
     "output_type": "display_data"
    }
   ],
   "source": [
    "# Number of Victims according to Sex of the Victim b/w the age group 20 and 35 years\n",
    "sns.countplot('Victim Sex', data=victim[(victim['Victim Age'] >= 20) & (victim['Victim Age'] <= 35)])"
   ]
  },
  {
   "cell_type": "code",
   "execution_count": 10,
   "metadata": {},
   "outputs": [
    {
     "data": {
      "text/plain": [
       "<matplotlib.axes._subplots.AxesSubplot at 0x26ec1224208>"
      ]
     },
     "execution_count": 10,
     "metadata": {},
     "output_type": "execute_result"
    },
    {
     "data": {
      "image/png": "[encoded data removed]",
      "text/plain": [
       "<Figure size 432x288 with 1 Axes>"
      ]
     },
     "metadata": {},
     "output_type": "display_data"
    }
   ],
   "source": [
    "#Countplot according to the Victim's Descent\n",
    "sns.countplot('Victim Descent', data=victim)"
   ]
  },
  {
   "cell_type": "code",
   "execution_count": 11,
   "metadata": {},
   "outputs": [],
   "source": [
    "# Area ID, Area Name and Reporting District.\n",
    "area = df[['Area ID', 'Area Name', 'Reporting District']]"
   ]
  },
  {
   "cell_type": "code",
   "execution_count": 12,
   "metadata": {},
   "outputs": [
    {
     "data": {
      "text/plain": [
       "<matplotlib.axes._subplots.AxesSubplot at 0x26ec12dd518>"
      ]
     },
     "execution_count": 12,
     "metadata": {},
     "output_type": "execute_result"
    },
    {
     "data": {
      "image/png": "[encoded data removed]",
      "text/plain": [
       "<Figure size 432x288 with 1 Axes>"
      ]
     },
     "metadata": {},
     "output_type": "display_data"
    }
   ],
   "source": [
    "# Which area have more Crime.\n",
    "plt.title('Number of Crimes in Different Area')\n",
    "sns.countplot(x='Area ID', data=area)"
   ]
  },
  {
   "cell_type": "code",
   "execution_count": 13,
   "metadata": {},
   "outputs": [],
   "source": [
    "# Crime Code and it's Description\n",
    "crime = df[['Crime Code', 'Crime Code Description','Status Description','Weapon Description','Premise Description']]"
   ]
  },
  {
   "cell_type": "code",
   "execution_count": 14,
   "metadata": {},
   "outputs": [
    {
     "data": {
      "text/plain": [
       "BATTERY - SIMPLE ASSAULT                                        145767\n",
       "VEHICLE - STOLEN                                                121329\n",
       "BURGLARY FROM VEHICLE                                           121318\n",
       "BURGLARY                                                        114751\n",
       "THEFT PLAIN - PETTY ($950 & UNDER)                              113709\n",
       "THEFT OF IDENTITY                                               100653\n",
       "INTIMATE PARTNER - SIMPLE ASSAULT                                85908\n",
       "VANDALISM - FELONY ($400 & OVER, ALL CHURCH VANDALISMS) 0114     79433\n",
       "VANDALISM - MISDEAMEANOR ($399 OR UNDER)                         71523\n",
       "ASSAULT WITH DEADLY WEAPON, AGGRAVATED ASSAULT                   67631\n",
       "Name: Crime Code Description, dtype: int64"
      ]
     },
     "execution_count": 14,
     "metadata": {},
     "output_type": "execute_result"
    }
   ],
   "source": [
    "#Top 10 crimes\n",
    "crime['Crime Code Description'].value_counts()[:10]"
   ]
  },
  {
   "cell_type": "code",
   "execution_count": 15,
   "metadata": {},
   "outputs": [
    {
     "data": {
      "text/plain": [
       "<matplotlib.axes._subplots.AxesSubplot at 0x26ec3a00b38>"
      ]
     },
     "execution_count": 15,
     "metadata": {},
     "output_type": "execute_result"
    },
    {
     "data": {
      "image/png": "[encoded data removed]",
      "text/plain": [
       "<Figure size 432x288 with 1 Axes>"
      ]
     },
     "metadata": {},
     "output_type": "display_data"
    }
   ],
   "source": [
    "#Plot of the top 10 crimes\n",
    "plt.title('Number of Crimes according to Crime Description')\n",
    "crime['Crime Code Description'].value_counts()[:10].plot(kind='bar')"
   ]
  },
  {
   "cell_type": "code",
   "execution_count": 16,
   "metadata": {},
   "outputs": [
    {
     "data": {
      "text/plain": [
       "<matplotlib.axes._subplots.AxesSubplot at 0x26ec39f4eb8>"
      ]
     },
     "execution_count": 16,
     "metadata": {},
     "output_type": "execute_result"
    },
    {
     "data": {
      "image/png": "[encoded data removed]",
      "text/plain": [
       "<Figure size 432x288 with 1 Axes>"
      ]
     },
     "metadata": {},
     "output_type": "display_data"
    }
   ],
   "source": [
    "#Plot of the top 10 crimes according to their crime code\n",
    "plt.title('Number of Crimes according to Crime Code')\n",
    "crime['Crime Code'].value_counts()[:10].plot(kind='bar')"
   ]
  },
  {
   "cell_type": "code",
   "execution_count": 17,
   "metadata": {},
   "outputs": [
    {
     "data": {
      "image/png": "[encoded data removed]",
      "text/plain": [
       "<Figure size 432x288 with 1 Axes>"
      ]
     },
     "metadata": {},
     "output_type": "display_data"
    }
   ],
   "source": [
    "fig, ax = plt.subplots()\n",
    "\n",
    "# Plotting weapons used\n",
    "sns.barplot(y=crime[\"Weapon Description\"].value_counts().head(20).index,\n",
    "                 x=crime[\"Weapon Description\"].value_counts().head(20), ax=ax)\n",
    "\n",
    "# Axes\n",
    "ax.set_title(\"Weapon Used\")\n",
    "ax.set_xlabel(\"Total Crimes Occurred\")\n",
    "ax.set_ylabel(\"Weapon\")\n",
    "sns.despine()"
   ]
  },
  {
   "cell_type": "code",
   "execution_count": 18,
   "metadata": {},
   "outputs": [
    {
     "data": {
      "text/plain": [
       "STREET                                          352160\n",
       "SINGLE FAMILY DWELLING                          328198\n",
       "MULTI-UNIT DWELLING (APARTMENT, DUPLEX, ETC)    204980\n",
       "PARKING LOT                                     112576\n",
       "SIDEWALK                                         79247\n",
       "Name: Premise Description, dtype: int64"
      ]
     },
     "execution_count": 18,
     "metadata": {},
     "output_type": "execute_result"
    }
   ],
   "source": [
    "#Top 5 areas of crime\n",
    "crime[\"Premise Description\"].value_counts().head(5)"
   ]
  },
  {
   "cell_type": "code",
   "execution_count": 19,
   "metadata": {},
   "outputs": [
    {
     "data": {
      "image/png": "[encoded data removed]",
      "text/plain": [
       "<Figure size 432x288 with 1 Axes>"
      ]
     },
     "metadata": {},
     "output_type": "display_data"
    }
   ],
   "source": [
    "fig, ax = plt.subplots()\n",
    "\n",
    "# Top 10 premises of crime by a juvie\n",
    "ax = sns.barplot(y=crime[\"Premise Description\"].value_counts().head(10).index,\n",
    "                 x=crime[\"Premise Description\"].value_counts().head(10))\n",
    "\n",
    "# Axes\n",
    "sns.set_style(\"whitegrid\")\n",
    "ax.set_title(\"Crime Premises by Juvies\")\n",
    "ax.set_xlabel(\"Total Crimes Occurred\")\n",
    "ax.set_ylabel(\"Premise\")\n",
    "sns.despine()"
   ]
  },
  {
   "cell_type": "code",
   "execution_count": 20,
   "metadata": {},
   "outputs": [],
   "source": [
    "area_crime = pd.concat(objs=[area, crime], axis=1)"
   ]
  },
  {
   "cell_type": "code",
   "execution_count": 21,
   "metadata": {},
   "outputs": [
    {
     "name": "stdout",
     "output_type": "stream",
     "text": [
      "Number of Crimes in Area ID 12 i.e 77th Street 110605\n",
      "Number of Crimes in Area ID 3 i.e Southwest 102259\n"
     ]
    }
   ],
   "source": [
    "print (\"Number of Crimes in Area ID 12 i.e 77th Street\", len(area_crime[(area_crime['Area ID'] == 12)]))\n",
    "print (\"Number of Crimes in Area ID 3 i.e Southwest\", len(area_crime[(area_crime['Area ID'] == 3)]))"
   ]
  },
  {
   "cell_type": "code",
   "execution_count": 22,
   "metadata": {},
   "outputs": [],
   "source": [
    "# Select the Area with the ID 12 and 3 Respectively.\n",
    "area_crime_12 = area_crime[(area_crime['Area ID'] == 12)]\n",
    "area_crime_3 = area_crime[(area_crime['Area ID'] == 3)]"
   ]
  },
  {
   "cell_type": "code",
   "execution_count": 23,
   "metadata": {},
   "outputs": [
    {
     "data": {
      "text/plain": [
       "BATTERY - SIMPLE ASSAULT                          12208\n",
       "VEHICLE - STOLEN                                   9831\n",
       "ASSAULT WITH DEADLY WEAPON, AGGRAVATED ASSAULT     8959\n",
       "ROBBERY                                            7840\n",
       "BURGLARY                                           7790\n",
       "INTIMATE PARTNER - SIMPLE ASSAULT                  7146\n",
       "BURGLARY FROM VEHICLE                              5866\n",
       "VANDALISM - MISDEAMEANOR ($399 OR UNDER)           5361\n",
       "THEFT PLAIN - PETTY ($950 & UNDER)                 5275\n",
       "THEFT OF IDENTITY                                  5146\n",
       "Name: Crime Code Description, dtype: int64"
      ]
     },
     "execution_count": 23,
     "metadata": {},
     "output_type": "execute_result"
    }
   ],
   "source": [
    "area_crime_12['Crime Code Description'].value_counts()[:10]"
   ]
  },
  {
   "cell_type": "code",
   "execution_count": 24,
   "metadata": {},
   "outputs": [
    {
     "data": {
      "text/plain": [
       "BATTERY - SIMPLE ASSAULT                          11196\n",
       "THEFT PLAIN - PETTY ($950 & UNDER)                 9730\n",
       "VEHICLE - STOLEN                                   7085\n",
       "BURGLARY                                           6920\n",
       "BURGLARY FROM VEHICLE                              6026\n",
       "INTIMATE PARTNER - SIMPLE ASSAULT                  5624\n",
       "ROBBERY                                            5621\n",
       "ASSAULT WITH DEADLY WEAPON, AGGRAVATED ASSAULT     5501\n",
       "THEFT OF IDENTITY                                  5174\n",
       "VANDALISM - MISDEAMEANOR ($399 OR UNDER)           4825\n",
       "Name: Crime Code Description, dtype: int64"
      ]
     },
     "execution_count": 24,
     "metadata": {},
     "output_type": "execute_result"
    }
   ],
   "source": [
    "area_crime_3['Crime Code Description'].value_counts()[:10]"
   ]
  },
  {
   "cell_type": "code",
   "execution_count": 25,
   "metadata": {},
   "outputs": [
    {
     "data": {
      "image/png": "[encoded data removed]",
      "text/plain": [
       "<Figure size 432x288 with 1 Axes>"
      ]
     },
     "metadata": {},
     "output_type": "display_data"
    }
   ],
   "source": [
    "fig, ax = plt.subplots()\n",
    "\n",
    "# Plotting the arrest status\n",
    "sns.barplot(y=crime[\"Status Description\"].value_counts().index,\n",
    "                 x=crime[\"Status Description\"].value_counts(), ax=ax)\n",
    "\n",
    "# Axes\n",
    "ax.set_title(\"Status\")\n",
    "ax.set_xlabel(\"Total Crimes Occurred\")\n",
    "ax.set_ylabel(\"Arrest Status\")\n",
    "sns.despine()"
   ]
  },
  {
   "cell_type": "code",
   "execution_count": 26,
   "metadata": {
    "scrolled": true
   },
   "outputs": [
    {
     "data": {
      "text/html": [
       "<div>\n",
       "<style scoped>\n",
       "    .dataframe tbody tr th:only-of-type {\n",
       "        vertical-align: middle;\n",
       "    }\n",
       "\n",
       "    .dataframe tbody tr th {\n",
       "        vertical-align: top;\n",
       "    }\n",
       "\n",
       "    .dataframe thead th {\n",
       "        text-align: right;\n",
       "    }\n",
       "</style>\n",
       "<table border=\"1\" class=\"dataframe\">\n",
       "  <thead>\n",
       "    <tr style=\"text-align: right;\">\n",
       "      <th></th>\n",
       "      <th>DR Number</th>\n",
       "      <th>Time Occurred</th>\n",
       "      <th>Area ID</th>\n",
       "      <th>Reporting District</th>\n",
       "      <th>Crime Code</th>\n",
       "      <th>Victim Age</th>\n",
       "      <th>Premise Code</th>\n",
       "      <th>Weapon Used Code</th>\n",
       "      <th>Crime Code 1</th>\n",
       "      <th>Crime Code 2</th>\n",
       "      <th>Crime Code 3</th>\n",
       "      <th>Crime Code 4</th>\n",
       "    </tr>\n",
       "  </thead>\n",
       "  <tbody>\n",
       "    <tr>\n",
       "      <th>DR Number</th>\n",
       "      <td>1.000000</td>\n",
       "      <td>-0.007390</td>\n",
       "      <td>0.016191</td>\n",
       "      <td>0.016248</td>\n",
       "      <td>-0.009166</td>\n",
       "      <td>0.007397</td>\n",
       "      <td>-0.015414</td>\n",
       "      <td>0.000441</td>\n",
       "      <td>-0.009321</td>\n",
       "      <td>-0.099782</td>\n",
       "      <td>-0.010357</td>\n",
       "      <td>0.036429</td>\n",
       "    </tr>\n",
       "    <tr>\n",
       "      <th>Time Occurred</th>\n",
       "      <td>-0.007390</td>\n",
       "      <td>1.000000</td>\n",
       "      <td>0.011809</td>\n",
       "      <td>0.012023</td>\n",
       "      <td>0.017712</td>\n",
       "      <td>-0.049945</td>\n",
       "      <td>-0.095394</td>\n",
       "      <td>-0.002821</td>\n",
       "      <td>0.017759</td>\n",
       "      <td>0.007710</td>\n",
       "      <td>0.005377</td>\n",
       "      <td>-0.088805</td>\n",
       "    </tr>\n",
       "    <tr>\n",
       "      <th>Area ID</th>\n",
       "      <td>0.016191</td>\n",
       "      <td>0.011809</td>\n",
       "      <td>1.000000</td>\n",
       "      <td>0.998998</td>\n",
       "      <td>-0.004587</td>\n",
       "      <td>0.009835</td>\n",
       "      <td>0.014475</td>\n",
       "      <td>-0.000490</td>\n",
       "      <td>-0.004650</td>\n",
       "      <td>-0.046569</td>\n",
       "      <td>-0.026894</td>\n",
       "      <td>0.012957</td>\n",
       "    </tr>\n",
       "    <tr>\n",
       "      <th>Reporting District</th>\n",
       "      <td>0.016248</td>\n",
       "      <td>0.012023</td>\n",
       "      <td>0.998998</td>\n",
       "      <td>1.000000</td>\n",
       "      <td>-0.004624</td>\n",
       "      <td>0.010262</td>\n",
       "      <td>0.014411</td>\n",
       "      <td>-0.000368</td>\n",
       "      <td>-0.004686</td>\n",
       "      <td>-0.045945</td>\n",
       "      <td>-0.024548</td>\n",
       "      <td>0.012456</td>\n",
       "    </tr>\n",
       "    <tr>\n",
       "      <th>Crime Code</th>\n",
       "      <td>-0.009166</td>\n",
       "      <td>0.017712</td>\n",
       "      <td>-0.004587</td>\n",
       "      <td>-0.004624</td>\n",
       "      <td>1.000000</td>\n",
       "      <td>-0.034478</td>\n",
       "      <td>0.098754</td>\n",
       "      <td>0.432260</td>\n",
       "      <td>0.999638</td>\n",
       "      <td>0.059313</td>\n",
       "      <td>0.092420</td>\n",
       "      <td>0.030399</td>\n",
       "    </tr>\n",
       "    <tr>\n",
       "      <th>Victim Age</th>\n",
       "      <td>0.007397</td>\n",
       "      <td>-0.049945</td>\n",
       "      <td>0.009835</td>\n",
       "      <td>0.010262</td>\n",
       "      <td>-0.034478</td>\n",
       "      <td>1.000000</td>\n",
       "      <td>0.167376</td>\n",
       "      <td>0.074359</td>\n",
       "      <td>-0.034394</td>\n",
       "      <td>-0.002280</td>\n",
       "      <td>-0.071872</td>\n",
       "      <td>-0.106784</td>\n",
       "    </tr>\n",
       "    <tr>\n",
       "      <th>Premise Code</th>\n",
       "      <td>-0.015414</td>\n",
       "      <td>-0.095394</td>\n",
       "      <td>0.014475</td>\n",
       "      <td>0.014411</td>\n",
       "      <td>0.098754</td>\n",
       "      <td>0.167376</td>\n",
       "      <td>1.000000</td>\n",
       "      <td>0.216194</td>\n",
       "      <td>0.098761</td>\n",
       "      <td>-0.036025</td>\n",
       "      <td>-0.069356</td>\n",
       "      <td>0.170824</td>\n",
       "    </tr>\n",
       "    <tr>\n",
       "      <th>Weapon Used Code</th>\n",
       "      <td>0.000441</td>\n",
       "      <td>-0.002821</td>\n",
       "      <td>-0.000490</td>\n",
       "      <td>-0.000368</td>\n",
       "      <td>0.432260</td>\n",
       "      <td>0.074359</td>\n",
       "      <td>0.216194</td>\n",
       "      <td>1.000000</td>\n",
       "      <td>0.432594</td>\n",
       "      <td>-0.095010</td>\n",
       "      <td>0.022898</td>\n",
       "      <td>-0.048323</td>\n",
       "    </tr>\n",
       "    <tr>\n",
       "      <th>Crime Code 1</th>\n",
       "      <td>-0.009321</td>\n",
       "      <td>0.017759</td>\n",
       "      <td>-0.004650</td>\n",
       "      <td>-0.004686</td>\n",
       "      <td>0.999638</td>\n",
       "      <td>-0.034394</td>\n",
       "      <td>0.098761</td>\n",
       "      <td>0.432594</td>\n",
       "      <td>1.000000</td>\n",
       "      <td>0.069727</td>\n",
       "      <td>0.124671</td>\n",
       "      <td>0.021249</td>\n",
       "    </tr>\n",
       "    <tr>\n",
       "      <th>Crime Code 2</th>\n",
       "      <td>-0.099782</td>\n",
       "      <td>0.007710</td>\n",
       "      <td>-0.046569</td>\n",
       "      <td>-0.045945</td>\n",
       "      <td>0.059313</td>\n",
       "      <td>-0.002280</td>\n",
       "      <td>-0.036025</td>\n",
       "      <td>-0.095010</td>\n",
       "      <td>0.069727</td>\n",
       "      <td>1.000000</td>\n",
       "      <td>0.255056</td>\n",
       "      <td>0.267714</td>\n",
       "    </tr>\n",
       "    <tr>\n",
       "      <th>Crime Code 3</th>\n",
       "      <td>-0.010357</td>\n",
       "      <td>0.005377</td>\n",
       "      <td>-0.026894</td>\n",
       "      <td>-0.024548</td>\n",
       "      <td>0.092420</td>\n",
       "      <td>-0.071872</td>\n",
       "      <td>-0.069356</td>\n",
       "      <td>0.022898</td>\n",
       "      <td>0.124671</td>\n",
       "      <td>0.255056</td>\n",
       "      <td>1.000000</td>\n",
       "      <td>0.506226</td>\n",
       "    </tr>\n",
       "    <tr>\n",
       "      <th>Crime Code 4</th>\n",
       "      <td>0.036429</td>\n",
       "      <td>-0.088805</td>\n",
       "      <td>0.012957</td>\n",
       "      <td>0.012456</td>\n",
       "      <td>0.030399</td>\n",
       "      <td>-0.106784</td>\n",
       "      <td>0.170824</td>\n",
       "      <td>-0.048323</td>\n",
       "      <td>0.021249</td>\n",
       "      <td>0.267714</td>\n",
       "      <td>0.506226</td>\n",
       "      <td>1.000000</td>\n",
       "    </tr>\n",
       "  </tbody>\n",
       "</table>\n",
       "</div>"
      ],
      "text/plain": [
       "                    DR Number  Time Occurred   Area ID  Reporting District  \\\n",
       "DR Number            1.000000      -0.007390  0.016191            0.016248   \n",
       "Time Occurred       -0.007390       1.000000  0.011809            0.012023   \n",
       "Area ID              0.016191       0.011809  1.000000            0.998998   \n",
       "Reporting District   0.016248       0.012023  0.998998            1.000000   \n",
       "Crime Code          -0.009166       0.017712 -0.004587           -0.004624   \n",
       "Victim Age           0.007397      -0.049945  0.009835            0.010262   \n",
       "Premise Code        -0.015414      -0.095394  0.014475            0.014411   \n",
       "Weapon Used Code     0.000441      -0.002821 -0.000490           -0.000368   \n",
       "Crime Code 1        -0.009321       0.017759 -0.004650           -0.004686   \n",
       "Crime Code 2        -0.099782       0.007710 -0.046569           -0.045945   \n",
       "Crime Code 3        -0.010357       0.005377 -0.026894           -0.024548   \n",
       "Crime Code 4         0.036429      -0.088805  0.012957            0.012456   \n",
       "\n",
       "                    Crime Code  Victim Age  Premise Code  Weapon Used Code  \\\n",
       "DR Number            -0.009166    0.007397     -0.015414          0.000441   \n",
       "Time Occurred         0.017712   -0.049945     -0.095394         -0.002821   \n",
       "Area ID              -0.004587    0.009835      0.014475         -0.000490   \n",
       "Reporting District   -0.004624    0.010262      0.014411         -0.000368   \n",
       "Crime Code            1.000000   -0.034478      0.098754          0.432260   \n",
       "Victim Age           -0.034478    1.000000      0.167376          0.074359   \n",
       "Premise Code          0.098754    0.167376      1.000000          0.216194   \n",
       "Weapon Used Code      0.432260    0.074359      0.216194          1.000000   \n",
       "Crime Code 1          0.999638   -0.034394      0.098761          0.432594   \n",
       "Crime Code 2          0.059313   -0.002280     -0.036025         -0.095010   \n",
       "Crime Code 3          0.092420   -0.071872     -0.069356          0.022898   \n",
       "Crime Code 4          0.030399   -0.106784      0.170824         -0.048323   \n",
       "\n",
       "                    Crime Code 1  Crime Code 2  Crime Code 3  Crime Code 4  \n",
       "DR Number              -0.009321     -0.099782     -0.010357      0.036429  \n",
       "Time Occurred           0.017759      0.007710      0.005377     -0.088805  \n",
       "Area ID                -0.004650     -0.046569     -0.026894      0.012957  \n",
       "Reporting District     -0.004686     -0.045945     -0.024548      0.012456  \n",
       "Crime Code              0.999638      0.059313      0.092420      0.030399  \n",
       "Victim Age             -0.034394     -0.002280     -0.071872     -0.106784  \n",
       "Premise Code            0.098761     -0.036025     -0.069356      0.170824  \n",
       "Weapon Used Code        0.432594     -0.095010      0.022898     -0.048323  \n",
       "Crime Code 1            1.000000      0.069727      0.124671      0.021249  \n",
       "Crime Code 2            0.069727      1.000000      0.255056      0.267714  \n",
       "Crime Code 3            0.124671      0.255056      1.000000      0.506226  \n",
       "Crime Code 4            0.021249      0.267714      0.506226      1.000000  "
      ]
     },
     "execution_count": 26,
     "metadata": {},
     "output_type": "execute_result"
    }
   ],
   "source": [
    "#correlation matrix\n",
    "df.corr()"
   ]
  },
  {
   "cell_type": "markdown",
   "metadata": {},
   "source": [
    "## PREDICTIVE ANALYTICS"
   ]
  },
  {
   "cell_type": "code",
   "execution_count": 27,
   "metadata": {},
   "outputs": [],
   "source": [
    "df_use=df[['Time Occurred']+['Area ID']+['Reporting District']+['Crime Code']+\n",
    "          ['Victim Sex']+['Victim Age']+['Victim Descent']+['Premise Code']+['Weapon Used Code']]"
   ]
  },
  {
   "cell_type": "code",
   "execution_count": 28,
   "metadata": {
    "scrolled": false
   },
   "outputs": [
    {
     "name": "stdout",
     "output_type": "stream",
     "text": [
      "<class 'pandas.core.frame.DataFrame'>\n",
      "RangeIndex: 1584316 entries, 0 to 1584315\n",
      "Data columns (total 9 columns):\n",
      "Time Occurred         1584316 non-null int64\n",
      "Area ID               1584316 non-null int64\n",
      "Reporting District    1584316 non-null int64\n",
      "Crime Code            1584316 non-null int64\n",
      "Victim Sex            1439117 non-null object\n",
      "Victim Age            1455657 non-null float64\n",
      "Victim Descent        1439084 non-null object\n",
      "Premise Code          1584240 non-null float64\n",
      "Weapon Used Code      524757 non-null float64\n",
      "dtypes: float64(3), int64(4), object(2)\n",
      "memory usage: 108.8+ MB\n"
     ]
    }
   ],
   "source": [
    "df_use.info()"
   ]
  },
  {
   "cell_type": "code",
   "execution_count": 29,
   "metadata": {},
   "outputs": [
    {
     "name": "stderr",
     "output_type": "stream",
     "text": [
      "C:\\Users\\anush\\Anaconda3\\lib\\site-packages\\ipykernel_launcher.py:2: SettingWithCopyWarning: \n",
      "A value is trying to be set on a copy of a slice from a DataFrame.\n",
      "Try using .loc[row_indexer,col_indexer] = value instead\n",
      "\n",
      "See the caveats in the documentation: http://pandas.pydata.org/pandas-docs/stable/indexing.html#indexing-view-versus-copy\n",
      "  \n",
      "C:\\Users\\anush\\Anaconda3\\lib\\site-packages\\ipykernel_launcher.py:3: SettingWithCopyWarning: \n",
      "A value is trying to be set on a copy of a slice from a DataFrame.\n",
      "Try using .loc[row_indexer,col_indexer] = value instead\n",
      "\n",
      "See the caveats in the documentation: http://pandas.pydata.org/pandas-docs/stable/indexing.html#indexing-view-versus-copy\n",
      "  This is separate from the ipykernel package so we can avoid doing imports until\n"
     ]
    }
   ],
   "source": [
    "#fill up the missing values for the categorical data\n",
    "df_use['Victim Sex'] = df_use['Victim Sex'].fillna('NaN')\n",
    "df_use['Victim Descent'] = df_use['Victim Descent'].fillna('NaN')"
   ]
  },
  {
   "cell_type": "code",
   "execution_count": 30,
   "metadata": {},
   "outputs": [
    {
     "name": "stderr",
     "output_type": "stream",
     "text": [
      "C:\\Users\\anush\\Anaconda3\\lib\\site-packages\\ipykernel_launcher.py:2: SettingWithCopyWarning: \n",
      "A value is trying to be set on a copy of a slice from a DataFrame.\n",
      "Try using .loc[row_indexer,col_indexer] = value instead\n",
      "\n",
      "See the caveats in the documentation: http://pandas.pydata.org/pandas-docs/stable/indexing.html#indexing-view-versus-copy\n",
      "  \n",
      "C:\\Users\\anush\\Anaconda3\\lib\\site-packages\\ipykernel_launcher.py:3: SettingWithCopyWarning: \n",
      "A value is trying to be set on a copy of a slice from a DataFrame.\n",
      "Try using .loc[row_indexer,col_indexer] = value instead\n",
      "\n",
      "See the caveats in the documentation: http://pandas.pydata.org/pandas-docs/stable/indexing.html#indexing-view-versus-copy\n",
      "  This is separate from the ipykernel package so we can avoid doing imports until\n",
      "C:\\Users\\anush\\Anaconda3\\lib\\site-packages\\ipykernel_launcher.py:4: SettingWithCopyWarning: \n",
      "A value is trying to be set on a copy of a slice from a DataFrame.\n",
      "Try using .loc[row_indexer,col_indexer] = value instead\n",
      "\n",
      "See the caveats in the documentation: http://pandas.pydata.org/pandas-docs/stable/indexing.html#indexing-view-versus-copy\n",
      "  after removing the cwd from sys.path.\n"
     ]
    }
   ],
   "source": [
    "#fill up the missing values for numeric data\n",
    "df_use['Victim Age'] = df_use['Victim Age'].fillna(0)\n",
    "df_use['Premise Code'] = df_use['Premise Code'].fillna(0)\n",
    "df_use['Weapon Used Code'] = df_use['Weapon Used Code'].fillna(0)"
   ]
  },
  {
   "cell_type": "code",
   "execution_count": 31,
   "metadata": {},
   "outputs": [
    {
     "name": "stderr",
     "output_type": "stream",
     "text": [
      "C:\\Users\\anush\\Anaconda3\\lib\\site-packages\\ipykernel_launcher.py:2: SettingWithCopyWarning: \n",
      "A value is trying to be set on a copy of a slice from a DataFrame.\n",
      "Try using .loc[row_indexer,col_indexer] = value instead\n",
      "\n",
      "See the caveats in the documentation: http://pandas.pydata.org/pandas-docs/stable/indexing.html#indexing-view-versus-copy\n",
      "  \n"
     ]
    }
   ],
   "source": [
    "#define OUTPUT LABEL based on area ID\n",
    "df_use['OUTPUT_LABEL'] = (df_use['Area ID'] == 12).astype('int') | (df_use['Area ID'] == 3).astype('int')"
   ]
  },
  {
   "cell_type": "code",
   "execution_count": 32,
   "metadata": {},
   "outputs": [
    {
     "data": {
      "text/html": [
       "<div>\n",
       "<style scoped>\n",
       "    .dataframe tbody tr th:only-of-type {\n",
       "        vertical-align: middle;\n",
       "    }\n",
       "\n",
       "    .dataframe tbody tr th {\n",
       "        vertical-align: top;\n",
       "    }\n",
       "\n",
       "    .dataframe thead th {\n",
       "        text-align: right;\n",
       "    }\n",
       "</style>\n",
       "<table border=\"1\" class=\"dataframe\">\n",
       "  <thead>\n",
       "    <tr style=\"text-align: right;\">\n",
       "      <th></th>\n",
       "      <th>Time Occurred</th>\n",
       "      <th>Area ID</th>\n",
       "      <th>Reporting District</th>\n",
       "      <th>Crime Code</th>\n",
       "      <th>Victim Age</th>\n",
       "      <th>Victim Descent</th>\n",
       "      <th>Premise Code</th>\n",
       "      <th>Weapon Used Code</th>\n",
       "      <th>OUTPUT_LABEL</th>\n",
       "    </tr>\n",
       "  </thead>\n",
       "  <tbody>\n",
       "    <tr>\n",
       "      <th>0</th>\n",
       "      <td>1800</td>\n",
       "      <td>12</td>\n",
       "      <td>1241</td>\n",
       "      <td>626</td>\n",
       "      <td>30.0</td>\n",
       "      <td>W</td>\n",
       "      <td>502.0</td>\n",
       "      <td>400.0</td>\n",
       "      <td>1</td>\n",
       "    </tr>\n",
       "    <tr>\n",
       "      <th>1</th>\n",
       "      <td>2300</td>\n",
       "      <td>20</td>\n",
       "      <td>2071</td>\n",
       "      <td>510</td>\n",
       "      <td>0.0</td>\n",
       "      <td>NaN</td>\n",
       "      <td>101.0</td>\n",
       "      <td>0.0</td>\n",
       "      <td>0</td>\n",
       "    </tr>\n",
       "    <tr>\n",
       "      <th>2</th>\n",
       "      <td>2030</td>\n",
       "      <td>18</td>\n",
       "      <td>1823</td>\n",
       "      <td>510</td>\n",
       "      <td>12.0</td>\n",
       "      <td>NaN</td>\n",
       "      <td>101.0</td>\n",
       "      <td>0.0</td>\n",
       "      <td>0</td>\n",
       "    </tr>\n",
       "    <tr>\n",
       "      <th>3</th>\n",
       "      <td>1800</td>\n",
       "      <td>18</td>\n",
       "      <td>1803</td>\n",
       "      <td>510</td>\n",
       "      <td>0.0</td>\n",
       "      <td>NaN</td>\n",
       "      <td>101.0</td>\n",
       "      <td>0.0</td>\n",
       "      <td>0</td>\n",
       "    </tr>\n",
       "    <tr>\n",
       "      <th>4</th>\n",
       "      <td>2300</td>\n",
       "      <td>21</td>\n",
       "      <td>2133</td>\n",
       "      <td>745</td>\n",
       "      <td>84.0</td>\n",
       "      <td>W</td>\n",
       "      <td>501.0</td>\n",
       "      <td>0.0</td>\n",
       "      <td>0</td>\n",
       "    </tr>\n",
       "  </tbody>\n",
       "</table>\n",
       "</div>"
      ],
      "text/plain": [
       "   Time Occurred  Area ID  Reporting District  Crime Code  Victim Age  \\\n",
       "0           1800       12                1241         626        30.0   \n",
       "1           2300       20                2071         510         0.0   \n",
       "2           2030       18                1823         510        12.0   \n",
       "3           1800       18                1803         510         0.0   \n",
       "4           2300       21                2133         745        84.0   \n",
       "\n",
       "  Victim Descent  Premise Code  Weapon Used Code  OUTPUT_LABEL  \n",
       "0              W         502.0             400.0             1  \n",
       "1            NaN         101.0               0.0             0  \n",
       "2            NaN         101.0               0.0             0  \n",
       "3            NaN         101.0               0.0             0  \n",
       "4              W         501.0               0.0             0  "
      ]
     },
     "execution_count": 32,
     "metadata": {},
     "output_type": "execute_result"
    }
   ],
   "source": [
    "#final dataframe to be used for prediction\n",
    "df_final=df_use[['Time Occurred']+['Area ID']+['Reporting District']+['Crime Code']\n",
    "         +['Victim Age']+['Victim Descent']+['Premise Code']+['Weapon Used Code']+['OUTPUT_LABEL']]\n",
    "df_final.head()"
   ]
  },
  {
   "cell_type": "markdown",
   "metadata": {},
   "source": [
    "## Numerical Features"
   ]
  },
  {
   "cell_type": "code",
   "execution_count": 33,
   "metadata": {},
   "outputs": [
    {
     "data": {
      "text/html": [
       "<div>\n",
       "<style scoped>\n",
       "    .dataframe tbody tr th:only-of-type {\n",
       "        vertical-align: middle;\n",
       "    }\n",
       "\n",
       "    .dataframe tbody tr th {\n",
       "        vertical-align: top;\n",
       "    }\n",
       "\n",
       "    .dataframe thead th {\n",
       "        text-align: right;\n",
       "    }\n",
       "</style>\n",
       "<table border=\"1\" class=\"dataframe\">\n",
       "  <thead>\n",
       "    <tr style=\"text-align: right;\">\n",
       "      <th></th>\n",
       "      <th>Time Occurred</th>\n",
       "      <th>Victim Age</th>\n",
       "      <th>Reporting District</th>\n",
       "      <th>Crime Code</th>\n",
       "      <th>Premise Code</th>\n",
       "      <th>Weapon Used Code</th>\n",
       "      <th>OUTPUT_LABEL</th>\n",
       "    </tr>\n",
       "  </thead>\n",
       "  <tbody>\n",
       "    <tr>\n",
       "      <th>0</th>\n",
       "      <td>1800</td>\n",
       "      <td>30.0</td>\n",
       "      <td>1241</td>\n",
       "      <td>626</td>\n",
       "      <td>502.0</td>\n",
       "      <td>400.0</td>\n",
       "      <td>1</td>\n",
       "    </tr>\n",
       "    <tr>\n",
       "      <th>1</th>\n",
       "      <td>2300</td>\n",
       "      <td>0.0</td>\n",
       "      <td>2071</td>\n",
       "      <td>510</td>\n",
       "      <td>101.0</td>\n",
       "      <td>0.0</td>\n",
       "      <td>0</td>\n",
       "    </tr>\n",
       "    <tr>\n",
       "      <th>2</th>\n",
       "      <td>2030</td>\n",
       "      <td>12.0</td>\n",
       "      <td>1823</td>\n",
       "      <td>510</td>\n",
       "      <td>101.0</td>\n",
       "      <td>0.0</td>\n",
       "      <td>0</td>\n",
       "    </tr>\n",
       "    <tr>\n",
       "      <th>3</th>\n",
       "      <td>1800</td>\n",
       "      <td>0.0</td>\n",
       "      <td>1803</td>\n",
       "      <td>510</td>\n",
       "      <td>101.0</td>\n",
       "      <td>0.0</td>\n",
       "      <td>0</td>\n",
       "    </tr>\n",
       "    <tr>\n",
       "      <th>4</th>\n",
       "      <td>2300</td>\n",
       "      <td>84.0</td>\n",
       "      <td>2133</td>\n",
       "      <td>745</td>\n",
       "      <td>501.0</td>\n",
       "      <td>0.0</td>\n",
       "      <td>0</td>\n",
       "    </tr>\n",
       "  </tbody>\n",
       "</table>\n",
       "</div>"
      ],
      "text/plain": [
       "   Time Occurred  Victim Age  Reporting District  Crime Code  Premise Code  \\\n",
       "0           1800        30.0                1241         626         502.0   \n",
       "1           2300         0.0                2071         510         101.0   \n",
       "2           2030        12.0                1823         510         101.0   \n",
       "3           1800         0.0                1803         510         101.0   \n",
       "4           2300        84.0                2133         745         501.0   \n",
       "\n",
       "   Weapon Used Code  OUTPUT_LABEL  \n",
       "0             400.0             1  \n",
       "1               0.0             0  \n",
       "2               0.0             0  \n",
       "3               0.0             0  \n",
       "4               0.0             0  "
      ]
     },
     "execution_count": 33,
     "metadata": {},
     "output_type": "execute_result"
    }
   ],
   "source": [
    "df_final[['Time Occurred']+['Victim Age']+['Reporting District']+['Crime Code']\n",
    "         +['Premise Code']+['Weapon Used Code']+['OUTPUT_LABEL']].head()"
   ]
  },
  {
   "cell_type": "code",
   "execution_count": 34,
   "metadata": {},
   "outputs": [
    {
     "data": {
      "text/plain": [
       "['Time Occurred',\n",
       " 'Victim Age',\n",
       " 'Reporting District',\n",
       " 'Crime Code',\n",
       " 'Premise Code',\n",
       " 'Weapon Used Code']"
      ]
     },
     "execution_count": 34,
     "metadata": {},
     "output_type": "execute_result"
    }
   ],
   "source": [
    "cols_num = ['Time Occurred','Victim Age','Reporting District','Crime Code','Premise Code','Weapon Used Code']\n",
    "cols_num"
   ]
  },
  {
   "cell_type": "code",
   "execution_count": 35,
   "metadata": {},
   "outputs": [
    {
     "data": {
      "text/plain": [
       "Time Occurred         0\n",
       "Victim Age            0\n",
       "Reporting District    0\n",
       "Crime Code            0\n",
       "Premise Code          0\n",
       "Weapon Used Code      0\n",
       "dtype: int64"
      ]
     },
     "execution_count": 35,
     "metadata": {},
     "output_type": "execute_result"
    }
   ],
   "source": [
    "df_final[cols_num].isnull().sum()"
   ]
  },
  {
   "cell_type": "markdown",
   "metadata": {},
   "source": [
    "## Categorical Features"
   ]
  },
  {
   "cell_type": "code",
   "execution_count": 36,
   "metadata": {},
   "outputs": [],
   "source": [
    "cols_cat=['Victim Descent']"
   ]
  },
  {
   "cell_type": "code",
   "execution_count": 37,
   "metadata": {},
   "outputs": [
    {
     "data": {
      "text/html": [
       "<div>\n",
       "<style scoped>\n",
       "    .dataframe tbody tr th:only-of-type {\n",
       "        vertical-align: middle;\n",
       "    }\n",
       "\n",
       "    .dataframe tbody tr th {\n",
       "        vertical-align: top;\n",
       "    }\n",
       "\n",
       "    .dataframe thead th {\n",
       "        text-align: right;\n",
       "    }\n",
       "</style>\n",
       "<table border=\"1\" class=\"dataframe\">\n",
       "  <thead>\n",
       "    <tr style=\"text-align: right;\">\n",
       "      <th></th>\n",
       "      <th>Victim Descent_A</th>\n",
       "      <th>Victim Descent_B</th>\n",
       "      <th>Victim Descent_C</th>\n",
       "      <th>Victim Descent_D</th>\n",
       "      <th>Victim Descent_F</th>\n",
       "      <th>Victim Descent_G</th>\n",
       "      <th>Victim Descent_H</th>\n",
       "      <th>Victim Descent_I</th>\n",
       "      <th>Victim Descent_J</th>\n",
       "      <th>Victim Descent_K</th>\n",
       "      <th>Victim Descent_L</th>\n",
       "      <th>Victim Descent_NaN</th>\n",
       "      <th>Victim Descent_O</th>\n",
       "      <th>Victim Descent_P</th>\n",
       "      <th>Victim Descent_S</th>\n",
       "      <th>Victim Descent_U</th>\n",
       "      <th>Victim Descent_V</th>\n",
       "      <th>Victim Descent_W</th>\n",
       "      <th>Victim Descent_X</th>\n",
       "      <th>Victim Descent_Z</th>\n",
       "    </tr>\n",
       "  </thead>\n",
       "  <tbody>\n",
       "    <tr>\n",
       "      <th>0</th>\n",
       "      <td>0</td>\n",
       "      <td>0</td>\n",
       "      <td>0</td>\n",
       "      <td>0</td>\n",
       "      <td>0</td>\n",
       "      <td>0</td>\n",
       "      <td>0</td>\n",
       "      <td>0</td>\n",
       "      <td>0</td>\n",
       "      <td>0</td>\n",
       "      <td>0</td>\n",
       "      <td>0</td>\n",
       "      <td>0</td>\n",
       "      <td>0</td>\n",
       "      <td>0</td>\n",
       "      <td>0</td>\n",
       "      <td>0</td>\n",
       "      <td>1</td>\n",
       "      <td>0</td>\n",
       "      <td>0</td>\n",
       "    </tr>\n",
       "    <tr>\n",
       "      <th>1</th>\n",
       "      <td>0</td>\n",
       "      <td>0</td>\n",
       "      <td>0</td>\n",
       "      <td>0</td>\n",
       "      <td>0</td>\n",
       "      <td>0</td>\n",
       "      <td>0</td>\n",
       "      <td>0</td>\n",
       "      <td>0</td>\n",
       "      <td>0</td>\n",
       "      <td>0</td>\n",
       "      <td>1</td>\n",
       "      <td>0</td>\n",
       "      <td>0</td>\n",
       "      <td>0</td>\n",
       "      <td>0</td>\n",
       "      <td>0</td>\n",
       "      <td>0</td>\n",
       "      <td>0</td>\n",
       "      <td>0</td>\n",
       "    </tr>\n",
       "    <tr>\n",
       "      <th>2</th>\n",
       "      <td>0</td>\n",
       "      <td>0</td>\n",
       "      <td>0</td>\n",
       "      <td>0</td>\n",
       "      <td>0</td>\n",
       "      <td>0</td>\n",
       "      <td>0</td>\n",
       "      <td>0</td>\n",
       "      <td>0</td>\n",
       "      <td>0</td>\n",
       "      <td>0</td>\n",
       "      <td>1</td>\n",
       "      <td>0</td>\n",
       "      <td>0</td>\n",
       "      <td>0</td>\n",
       "      <td>0</td>\n",
       "      <td>0</td>\n",
       "      <td>0</td>\n",
       "      <td>0</td>\n",
       "      <td>0</td>\n",
       "    </tr>\n",
       "    <tr>\n",
       "      <th>3</th>\n",
       "      <td>0</td>\n",
       "      <td>0</td>\n",
       "      <td>0</td>\n",
       "      <td>0</td>\n",
       "      <td>0</td>\n",
       "      <td>0</td>\n",
       "      <td>0</td>\n",
       "      <td>0</td>\n",
       "      <td>0</td>\n",
       "      <td>0</td>\n",
       "      <td>0</td>\n",
       "      <td>1</td>\n",
       "      <td>0</td>\n",
       "      <td>0</td>\n",
       "      <td>0</td>\n",
       "      <td>0</td>\n",
       "      <td>0</td>\n",
       "      <td>0</td>\n",
       "      <td>0</td>\n",
       "      <td>0</td>\n",
       "    </tr>\n",
       "    <tr>\n",
       "      <th>4</th>\n",
       "      <td>0</td>\n",
       "      <td>0</td>\n",
       "      <td>0</td>\n",
       "      <td>0</td>\n",
       "      <td>0</td>\n",
       "      <td>0</td>\n",
       "      <td>0</td>\n",
       "      <td>0</td>\n",
       "      <td>0</td>\n",
       "      <td>0</td>\n",
       "      <td>0</td>\n",
       "      <td>0</td>\n",
       "      <td>0</td>\n",
       "      <td>0</td>\n",
       "      <td>0</td>\n",
       "      <td>0</td>\n",
       "      <td>0</td>\n",
       "      <td>1</td>\n",
       "      <td>0</td>\n",
       "      <td>0</td>\n",
       "    </tr>\n",
       "  </tbody>\n",
       "</table>\n",
       "</div>"
      ],
      "text/plain": [
       "   Victim Descent_A  Victim Descent_B  Victim Descent_C  Victim Descent_D  \\\n",
       "0                 0                 0                 0                 0   \n",
       "1                 0                 0                 0                 0   \n",
       "2                 0                 0                 0                 0   \n",
       "3                 0                 0                 0                 0   \n",
       "4                 0                 0                 0                 0   \n",
       "\n",
       "   Victim Descent_F  Victim Descent_G  Victim Descent_H  Victim Descent_I  \\\n",
       "0                 0                 0                 0                 0   \n",
       "1                 0                 0                 0                 0   \n",
       "2                 0                 0                 0                 0   \n",
       "3                 0                 0                 0                 0   \n",
       "4                 0                 0                 0                 0   \n",
       "\n",
       "   Victim Descent_J  Victim Descent_K  Victim Descent_L  Victim Descent_NaN  \\\n",
       "0                 0                 0                 0                   0   \n",
       "1                 0                 0                 0                   1   \n",
       "2                 0                 0                 0                   1   \n",
       "3                 0                 0                 0                   1   \n",
       "4                 0                 0                 0                   0   \n",
       "\n",
       "   Victim Descent_O  Victim Descent_P  Victim Descent_S  Victim Descent_U  \\\n",
       "0                 0                 0                 0                 0   \n",
       "1                 0                 0                 0                 0   \n",
       "2                 0                 0                 0                 0   \n",
       "3                 0                 0                 0                 0   \n",
       "4                 0                 0                 0                 0   \n",
       "\n",
       "   Victim Descent_V  Victim Descent_W  Victim Descent_X  Victim Descent_Z  \n",
       "0                 0                 1                 0                 0  \n",
       "1                 0                 0                 0                 0  \n",
       "2                 0                 0                 0                 0  \n",
       "3                 0                 0                 0                 0  \n",
       "4                 0                 1                 0                 0  "
      ]
     },
     "execution_count": 37,
     "metadata": {},
     "output_type": "execute_result"
    }
   ],
   "source": [
    "df_cat = pd.get_dummies(df_use[cols_cat],drop_first = True)\n",
    "df_cat.head()"
   ]
  },
  {
   "cell_type": "code",
   "execution_count": 38,
   "metadata": {},
   "outputs": [],
   "source": [
    "df = pd.concat([df_final,df_cat], axis = 1)"
   ]
  },
  {
   "cell_type": "code",
   "execution_count": 39,
   "metadata": {},
   "outputs": [
    {
     "name": "stdout",
     "output_type": "stream",
     "text": [
      "number of categorical: 20\n"
     ]
    }
   ],
   "source": [
    "cols_all_cat = list(df_cat.columns)\n",
    "print('number of categorical:',len(cols_all_cat))"
   ]
  },
  {
   "cell_type": "markdown",
   "metadata": {},
   "source": [
    "## Engineering Features Summary"
   ]
  },
  {
   "cell_type": "code",
   "execution_count": 40,
   "metadata": {},
   "outputs": [],
   "source": [
    "cols_input = cols_num + cols_all_cat"
   ]
  },
  {
   "cell_type": "code",
   "execution_count": 41,
   "metadata": {},
   "outputs": [
    {
     "data": {
      "text/html": [
       "<div>\n",
       "<style scoped>\n",
       "    .dataframe tbody tr th:only-of-type {\n",
       "        vertical-align: middle;\n",
       "    }\n",
       "\n",
       "    .dataframe tbody tr th {\n",
       "        vertical-align: top;\n",
       "    }\n",
       "\n",
       "    .dataframe thead th {\n",
       "        text-align: right;\n",
       "    }\n",
       "</style>\n",
       "<table border=\"1\" class=\"dataframe\">\n",
       "  <thead>\n",
       "    <tr style=\"text-align: right;\">\n",
       "      <th></th>\n",
       "      <th>Time Occurred</th>\n",
       "      <th>Victim Age</th>\n",
       "      <th>Reporting District</th>\n",
       "      <th>Crime Code</th>\n",
       "      <th>Premise Code</th>\n",
       "      <th>Weapon Used Code</th>\n",
       "      <th>Victim Descent_A</th>\n",
       "      <th>Victim Descent_B</th>\n",
       "      <th>Victim Descent_C</th>\n",
       "      <th>Victim Descent_D</th>\n",
       "      <th>...</th>\n",
       "      <th>Victim Descent_NaN</th>\n",
       "      <th>Victim Descent_O</th>\n",
       "      <th>Victim Descent_P</th>\n",
       "      <th>Victim Descent_S</th>\n",
       "      <th>Victim Descent_U</th>\n",
       "      <th>Victim Descent_V</th>\n",
       "      <th>Victim Descent_W</th>\n",
       "      <th>Victim Descent_X</th>\n",
       "      <th>Victim Descent_Z</th>\n",
       "      <th>OUTPUT_LABEL</th>\n",
       "    </tr>\n",
       "  </thead>\n",
       "  <tbody>\n",
       "    <tr>\n",
       "      <th>0</th>\n",
       "      <td>1800</td>\n",
       "      <td>30.0</td>\n",
       "      <td>1241</td>\n",
       "      <td>626</td>\n",
       "      <td>502.0</td>\n",
       "      <td>400.0</td>\n",
       "      <td>0</td>\n",
       "      <td>0</td>\n",
       "      <td>0</td>\n",
       "      <td>0</td>\n",
       "      <td>...</td>\n",
       "      <td>0</td>\n",
       "      <td>0</td>\n",
       "      <td>0</td>\n",
       "      <td>0</td>\n",
       "      <td>0</td>\n",
       "      <td>0</td>\n",
       "      <td>1</td>\n",
       "      <td>0</td>\n",
       "      <td>0</td>\n",
       "      <td>1</td>\n",
       "    </tr>\n",
       "    <tr>\n",
       "      <th>1</th>\n",
       "      <td>2300</td>\n",
       "      <td>0.0</td>\n",
       "      <td>2071</td>\n",
       "      <td>510</td>\n",
       "      <td>101.0</td>\n",
       "      <td>0.0</td>\n",
       "      <td>0</td>\n",
       "      <td>0</td>\n",
       "      <td>0</td>\n",
       "      <td>0</td>\n",
       "      <td>...</td>\n",
       "      <td>1</td>\n",
       "      <td>0</td>\n",
       "      <td>0</td>\n",
       "      <td>0</td>\n",
       "      <td>0</td>\n",
       "      <td>0</td>\n",
       "      <td>0</td>\n",
       "      <td>0</td>\n",
       "      <td>0</td>\n",
       "      <td>0</td>\n",
       "    </tr>\n",
       "    <tr>\n",
       "      <th>2</th>\n",
       "      <td>2030</td>\n",
       "      <td>12.0</td>\n",
       "      <td>1823</td>\n",
       "      <td>510</td>\n",
       "      <td>101.0</td>\n",
       "      <td>0.0</td>\n",
       "      <td>0</td>\n",
       "      <td>0</td>\n",
       "      <td>0</td>\n",
       "      <td>0</td>\n",
       "      <td>...</td>\n",
       "      <td>1</td>\n",
       "      <td>0</td>\n",
       "      <td>0</td>\n",
       "      <td>0</td>\n",
       "      <td>0</td>\n",
       "      <td>0</td>\n",
       "      <td>0</td>\n",
       "      <td>0</td>\n",
       "      <td>0</td>\n",
       "      <td>0</td>\n",
       "    </tr>\n",
       "    <tr>\n",
       "      <th>3</th>\n",
       "      <td>1800</td>\n",
       "      <td>0.0</td>\n",
       "      <td>1803</td>\n",
       "      <td>510</td>\n",
       "      <td>101.0</td>\n",
       "      <td>0.0</td>\n",
       "      <td>0</td>\n",
       "      <td>0</td>\n",
       "      <td>0</td>\n",
       "      <td>0</td>\n",
       "      <td>...</td>\n",
       "      <td>1</td>\n",
       "      <td>0</td>\n",
       "      <td>0</td>\n",
       "      <td>0</td>\n",
       "      <td>0</td>\n",
       "      <td>0</td>\n",
       "      <td>0</td>\n",
       "      <td>0</td>\n",
       "      <td>0</td>\n",
       "      <td>0</td>\n",
       "    </tr>\n",
       "    <tr>\n",
       "      <th>4</th>\n",
       "      <td>2300</td>\n",
       "      <td>84.0</td>\n",
       "      <td>2133</td>\n",
       "      <td>745</td>\n",
       "      <td>501.0</td>\n",
       "      <td>0.0</td>\n",
       "      <td>0</td>\n",
       "      <td>0</td>\n",
       "      <td>0</td>\n",
       "      <td>0</td>\n",
       "      <td>...</td>\n",
       "      <td>0</td>\n",
       "      <td>0</td>\n",
       "      <td>0</td>\n",
       "      <td>0</td>\n",
       "      <td>0</td>\n",
       "      <td>0</td>\n",
       "      <td>1</td>\n",
       "      <td>0</td>\n",
       "      <td>0</td>\n",
       "      <td>0</td>\n",
       "    </tr>\n",
       "  </tbody>\n",
       "</table>\n",
       "<p>5 rows × 27 columns</p>\n",
       "</div>"
      ],
      "text/plain": [
       "   Time Occurred  Victim Age  Reporting District  Crime Code  Premise Code  \\\n",
       "0           1800        30.0                1241         626         502.0   \n",
       "1           2300         0.0                2071         510         101.0   \n",
       "2           2030        12.0                1823         510         101.0   \n",
       "3           1800         0.0                1803         510         101.0   \n",
       "4           2300        84.0                2133         745         501.0   \n",
       "\n",
       "   Weapon Used Code  Victim Descent_A  Victim Descent_B  Victim Descent_C  \\\n",
       "0             400.0                 0                 0                 0   \n",
       "1               0.0                 0                 0                 0   \n",
       "2               0.0                 0                 0                 0   \n",
       "3               0.0                 0                 0                 0   \n",
       "4               0.0                 0                 0                 0   \n",
       "\n",
       "   Victim Descent_D      ...       Victim Descent_NaN  Victim Descent_O  \\\n",
       "0                 0      ...                        0                 0   \n",
       "1                 0      ...                        1                 0   \n",
       "2                 0      ...                        1                 0   \n",
       "3                 0      ...                        1                 0   \n",
       "4                 0      ...                        0                 0   \n",
       "\n",
       "   Victim Descent_P  Victim Descent_S  Victim Descent_U  Victim Descent_V  \\\n",
       "0                 0                 0                 0                 0   \n",
       "1                 0                 0                 0                 0   \n",
       "2                 0                 0                 0                 0   \n",
       "3                 0                 0                 0                 0   \n",
       "4                 0                 0                 0                 0   \n",
       "\n",
       "   Victim Descent_W  Victim Descent_X  Victim Descent_Z  OUTPUT_LABEL  \n",
       "0                 1                 0                 0             1  \n",
       "1                 0                 0                 0             0  \n",
       "2                 0                 0                 0             0  \n",
       "3                 0                 0                 0             0  \n",
       "4                 1                 0                 0             0  \n",
       "\n",
       "[5 rows x 27 columns]"
      ]
     },
     "execution_count": 41,
     "metadata": {},
     "output_type": "execute_result"
    }
   ],
   "source": [
    "df_data = df[cols_input + ['OUTPUT_LABEL']]\n",
    "df_data.head()"
   ]
  },
  {
   "cell_type": "markdown",
   "metadata": {},
   "source": [
    "## Building Training and Test Samples"
   ]
  },
  {
   "cell_type": "code",
   "execution_count": 42,
   "metadata": {},
   "outputs": [],
   "source": [
    "#shuffle the samples\n",
    "df_data = df_data.sample(n = len(df_data))\n",
    "df_data = df_data.reset_index(drop = True)"
   ]
  },
  {
   "cell_type": "code",
   "execution_count": 43,
   "metadata": {},
   "outputs": [
    {
     "name": "stdout",
     "output_type": "stream",
     "text": [
      "Split size: 0.300\n"
     ]
    }
   ],
   "source": [
    "# Save 30% of the data as validation and test data \n",
    "df_test=df_data.sample(frac=0.30)\n",
    "print('Split size: %.3f'%(len(df_test)/len(df_data)))"
   ]
  },
  {
   "cell_type": "code",
   "execution_count": 44,
   "metadata": {},
   "outputs": [],
   "source": [
    "# use the rest of the data as training data\n",
    "df_train_all=df_data.drop(df_test.index)"
   ]
  },
  {
   "cell_type": "markdown",
   "metadata": {},
   "source": [
    "## Prepare the Data"
   ]
  },
  {
   "cell_type": "code",
   "execution_count": 45,
   "metadata": {},
   "outputs": [],
   "source": [
    "# split the training data into positive and negative\n",
    "rows_pos = df_train_all.OUTPUT_LABEL == 1\n",
    "df_train_pos = df_train_all.loc[rows_pos]\n",
    "df_train_neg = df_train_all.loc[~rows_pos]\n",
    "\n",
    "# merge the balanced data\n",
    "df_train = pd.concat([df_train_pos, df_train_neg.sample(n = len(df_train_pos))],axis = 0)\n",
    "\n",
    "# shuffle the order of training samples \n",
    "df_train = df_train.sample(n = len(df_train)).reset_index(drop = True)"
   ]
  },
  {
   "cell_type": "code",
   "execution_count": 62,
   "metadata": {},
   "outputs": [],
   "source": [
    "#This is defined for calculating Prevalance.\n",
    "def calc_prevalence(y_actual):\n",
    "    return (sum(y_actual)/len(y_actual))"
   ]
  },
  {
   "cell_type": "code",
   "execution_count": 46,
   "metadata": {},
   "outputs": [
    {
     "name": "stdout",
     "output_type": "stream",
     "text": [
      "26\n"
     ]
    }
   ],
   "source": [
    "col2use = [c for c in list(df_train_all.columns) if c != 'OUTPUT_LABEL']\n",
    "print(len(col2use))"
   ]
  },
  {
   "cell_type": "code",
   "execution_count": 47,
   "metadata": {},
   "outputs": [
    {
     "name": "stdout",
     "output_type": "stream",
     "text": [
      "Training All shapes: (1109021, 26)\n",
      "Training shapes: (298268, 26) (298268,)\n"
     ]
    }
   ],
   "source": [
    "X_train = df_train[col2use].values\n",
    "X_train_all = df_train_all[col2use].values\n",
    "\n",
    "y_train = df_train['OUTPUT_LABEL'].values\n",
    "\n",
    "print('Training All shapes:',X_train_all.shape)\n",
    "print('Training shapes:',X_train.shape, y_train.shape)"
   ]
  },
  {
   "cell_type": "code",
   "execution_count": 48,
   "metadata": {},
   "outputs": [
    {
     "data": {
      "text/plain": [
       "StandardScaler(copy=True, with_mean=True, with_std=True)"
      ]
     },
     "execution_count": 48,
     "metadata": {},
     "output_type": "execute_result"
    }
   ],
   "source": [
    "from sklearn.preprocessing import StandardScaler\n",
    "\n",
    "scaler  = StandardScaler()\n",
    "scaler.fit(X_train_all)"
   ]
  },
  {
   "cell_type": "code",
   "execution_count": 49,
   "metadata": {},
   "outputs": [],
   "source": [
    "import pickle\n",
    "scalerfile = 'scaler.sav'\n",
    "pickle.dump(scaler, open(scalerfile, 'wb'))"
   ]
  },
  {
   "cell_type": "code",
   "execution_count": 50,
   "metadata": {},
   "outputs": [],
   "source": [
    "scaler = pickle.load(open(scalerfile, 'rb'))"
   ]
  },
  {
   "cell_type": "code",
   "execution_count": 51,
   "metadata": {},
   "outputs": [],
   "source": [
    "X_train_tf = scaler.transform(X_train)"
   ]
  },
  {
   "cell_type": "code",
   "execution_count": 52,
   "metadata": {},
   "outputs": [],
   "source": [
    "from sklearn.metrics import roc_auc_score, accuracy_score, precision_score, recall_score\n",
    "def calc_specificity(y_actual, y_pred, thresh):\n",
    "    # calculates specificity\n",
    "    return sum((y_pred < thresh) & (y_actual == 0)) /sum(y_actual ==0)\n",
    "\n",
    "def print_report(y_actual, y_pred, thresh):\n",
    "    \n",
    "    auc = roc_auc_score(y_actual, y_pred)\n",
    "    accuracy = accuracy_score(y_actual, (y_pred > thresh))\n",
    "    recall = recall_score(y_actual, (y_pred > thresh))\n",
    "    precision = precision_score(y_actual, (y_pred > thresh))\n",
    "    specificity = calc_specificity(y_actual, y_pred, thresh)\n",
    "    print('AUC:%.3f'%auc)\n",
    "    print('accuracy:%.3f'%accuracy)\n",
    "    print('recall:%.3f'%recall)\n",
    "    print('precision:%.3f'%precision)\n",
    "    print('specificity:%.3f'%specificity)\n",
    "    print(' ')\n",
    "    return auc, accuracy, recall, precision, specificity "
   ]
  },
  {
   "cell_type": "code",
   "execution_count": 53,
   "metadata": {},
   "outputs": [],
   "source": [
    "thresh = 0.5"
   ]
  },
  {
   "cell_type": "markdown",
   "metadata": {},
   "source": [
    "## Random Forest Classifier"
   ]
  },
  {
   "cell_type": "code",
   "execution_count": 54,
   "metadata": {},
   "outputs": [
    {
     "data": {
      "text/plain": [
       "RandomForestClassifier(bootstrap=True, class_weight=None, criterion='gini',\n",
       "            max_depth=6, max_features='auto', max_leaf_nodes=None,\n",
       "            min_impurity_decrease=0.0, min_impurity_split=None,\n",
       "            min_samples_leaf=1, min_samples_split=2,\n",
       "            min_weight_fraction_leaf=0.0, n_estimators=10, n_jobs=1,\n",
       "            oob_score=False, random_state=None, verbose=0,\n",
       "            warm_start=False)"
      ]
     },
     "execution_count": 54,
     "metadata": {},
     "output_type": "execute_result"
    }
   ],
   "source": [
    "from sklearn.ensemble import RandomForestClassifier\n",
    "rf=RandomForestClassifier(max_depth = 6)\n",
    "rf.fit(X_train_tf, y_train)"
   ]
  },
  {
   "cell_type": "code",
   "execution_count": 55,
   "metadata": {},
   "outputs": [
    {
     "name": "stdout",
     "output_type": "stream",
     "text": [
      "Random Forest\n",
      "Training:\n",
      "AUC:0.969\n",
      "accuracy:0.914\n",
      "recall:0.974\n",
      "precision:0.870\n",
      "specificity:0.854\n",
      " \n"
     ]
    }
   ],
   "source": [
    "y_train_preds = rf.predict_proba(X_train_tf)[:,1]\n",
    "\n",
    "print('Random Forest')\n",
    "print('Training:')\n",
    "rf_train_auc, rf_train_accuracy, rf_train_recall, rf_train_precision, rf_train_specificity =print_report(y_train,y_train_preds, thresh)"
   ]
  },
  {
   "cell_type": "markdown",
   "metadata": {},
   "source": [
    "## Test the model"
   ]
  },
  {
   "cell_type": "code",
   "execution_count": 56,
   "metadata": {},
   "outputs": [],
   "source": [
    "#create X and Y matrix\n",
    "X_test = df_test[col2use].values\n",
    "y_test = df_test['OUTPUT_LABEL'].values\n",
    "\n",
    "#transform our data matrices\n",
    "X_test_tf = scaler.transform(X_test)"
   ]
  },
  {
   "cell_type": "code",
   "execution_count": 57,
   "metadata": {},
   "outputs": [],
   "source": [
    "pickle.dump(rf, open('best_classifier.pkl', 'wb'),protocol = 4)"
   ]
  },
  {
   "cell_type": "code",
   "execution_count": 58,
   "metadata": {},
   "outputs": [],
   "source": [
    "import pickle\n",
    "# load the model\n",
    "best_model = pickle.load(open('best_classifier.pkl','rb'))"
   ]
  },
  {
   "cell_type": "code",
   "execution_count": 59,
   "metadata": {},
   "outputs": [],
   "source": [
    "y_train_preds = best_model.predict_proba(X_train_tf)[:,1]\n",
    "y_test_preds = best_model.predict_proba(X_test_tf)[:,1]"
   ]
  },
  {
   "cell_type": "code",
   "execution_count": 60,
   "metadata": {},
   "outputs": [
    {
     "name": "stdout",
     "output_type": "stream",
     "text": [
      "Test:\n",
      "AUC:0.969\n",
      "accuracy:0.871\n",
      "recall:0.974\n",
      "precision:0.509\n",
      "specificity:0.855\n",
      " \n"
     ]
    }
   ],
   "source": [
    "print('Test:')\n",
    "test_auc, test_accuracy, test_recall, test_precision, test_specificity = print_report(y_test,y_test_preds, thresh)"
   ]
  },
  {
   "cell_type": "code",
   "execution_count": 61,
   "metadata": {},
   "outputs": [
    {
     "name": "stdout",
     "output_type": "stream",
     "text": [
      "0.10393927536674834\n",
      "0.11310657927506981\n"
     ]
    }
   ],
   "source": [
    "mse_error = np.mean((y_train_preds-y_train) ** 2)\n",
    "print(mse_error)\n",
    "mse_error2=np.mean((y_test_preds-y_test)**2)\n",
    "print(mse_error2)"
   ]
  },
  {
   "cell_type": "code",
   "execution_count": null,
   "metadata": {},
   "outputs": [],
   "source": []
  }
 ],
 "metadata": {
  "kernelspec": {
   "display_name": "Python 3",
   "language": "python",
   "name": "python3"
  },
  "language_info": {
   "codemirror_mode": {
    "name": "ipython",
    "version": 3
   },
   "file_extension": ".py",
   "mimetype": "text/x-python",
   "name": "python",
   "nbconvert_exporter": "python",
   "pygments_lexer": "ipython3",
   "version": "3.6.5"
  }
 },
 "nbformat": 4,
 "nbformat_minor": 2
}
